{
 "cells": [
  {
   "cell_type": "markdown",
   "metadata": {},
   "source": [
    "# Lab 2 Solutions (with modified code from Pierre Casco)\n"
   ]
  },
  {
   "cell_type": "code",
   "execution_count": 2,
   "metadata": {},
   "outputs": [],
   "source": [
    "# Load dictionaries\n",
    "\n",
    "stock = {\"banana\":6,\"apple\":0,\"orange\":32,\"pear\":15}\n",
    "\n",
    "prices = {\"banana\":4,\"apple\":2,\"orange\":1.5,\"pear\":3}"
   ]
  },
  {
   "cell_type": "markdown",
   "metadata": {},
   "source": [
    "## a. Show the expression that gets the value of the stock dictionary at the key ‘orange’."
   ]
  },
  {
   "cell_type": "code",
   "execution_count": 3,
   "metadata": {},
   "outputs": [
    {
     "data": {
      "text/plain": [
       "32"
      ]
     },
     "execution_count": 3,
     "metadata": {},
     "output_type": "execute_result"
    }
   ],
   "source": [
    "stock[\"orange\"]"
   ]
  },
  {
   "cell_type": "code",
   "execution_count": null,
   "metadata": {},
   "outputs": [],
   "source": [
    "#Add cherry to the stock and prices dictionaries\n",
    "\n",
    "stock.update({\"cherry\":24})\n",
    "\n",
    "prices.update({\"cherry\":2.5})\n"
   ]
  },
  {
   "cell_type": "markdown",
   "metadata": {},
   "source": [
    "## b. Write the code for a loop that iterates over the stock dictionary and prints each key and value."
   ]
  },
  {
   "cell_type": "code",
   "execution_count": 4,
   "metadata": {},
   "outputs": [
    {
     "name": "stdout",
     "output_type": "stream",
     "text": [
      "banana 6\n",
      "apple 0\n",
      "orange 32\n",
      "pear 15\n"
     ]
    }
   ],
   "source": [
    "for i in stock:\n",
    "   print(i,stock[i])"
   ]
  },
  {
   "cell_type": "markdown",
   "metadata": {},
   "source": [
    "## c. Write the code that will sum the total number in stock of the items in the groceries list."
   ]
  },
  {
   "cell_type": "code",
   "execution_count": 5,
   "metadata": {},
   "outputs": [
    {
     "name": "stdout",
     "output_type": "stream",
     "text": [
      "The total stock on the grocery list is 21\n"
     ]
    }
   ],
   "source": [
    "groceries = ['apple','banana','pear']\n",
    "\n",
    "stocks = []\n",
    "\n",
    "for i in groceries:\n",
    "  stocks.append(stock[i])\n",
    "\n",
    "print('The total stock on the grocery list is',sum(stocks))"
   ]
  },
  {
   "cell_type": "markdown",
   "metadata": {},
   "source": [
    "## d. Write the code that can print out the total value in stock of all the items. This program can iterate over the stock dictionary and for each item multiply the number in stock times the price of that item in the prices dictionary."
   ]
  },
  {
   "cell_type": "code",
   "execution_count": 7,
   "metadata": {},
   "outputs": [
    {
     "name": "stdout",
     "output_type": "stream",
     "text": [
      "{'banana': 24, 'apple': 0, 'orange': 48.0, 'pear': 45}\n",
      "  \n",
      "The total price of all the stock is $ 117.0\n"
     ]
    }
   ],
   "source": [
    "print({k: prices[k]*stock[k] for k in prices})\n",
    "print('  ')\n",
    "print('The total price of all the stock is $',sum(prices[k]*stock[k] for k in prices))"
   ]
  },
  {
   "cell_type": "code",
   "execution_count": null,
   "metadata": {},
   "outputs": [],
   "source": []
  }
 ],
 "metadata": {
  "kernelspec": {
   "display_name": "Python 3",
   "language": "python",
   "name": "python3"
  },
  "language_info": {
   "codemirror_mode": {
    "name": "ipython",
    "version": 3
   },
   "file_extension": ".py",
   "mimetype": "text/x-python",
   "name": "python",
   "nbconvert_exporter": "python",
   "pygments_lexer": "ipython3",
   "version": "3.7.3"
  }
 },
 "nbformat": 4,
 "nbformat_minor": 2
}
