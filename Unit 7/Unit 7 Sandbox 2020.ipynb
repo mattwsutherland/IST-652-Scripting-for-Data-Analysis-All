{
 "cells": [
  {
   "cell_type": "markdown",
   "metadata": {},
   "source": [
    "# Getting Started with MongoDB\n",
    "\n",
    "Steps:\n",
    "1. Install MongoDB here: https://docs.mongodb.com/manual/tutorial/install-mongodb-on-os-x/\n",
    "\n",
    "\n",
    "2. Install pymongo here: https://api.mongodb.com/python/current/installation.html\n",
    "\n",
    "\n",
    "3. Before using mongoDB, start mongodb at the command prompt.\n",
    "\n",
    "\n",
    "4. Now you can use the pymongo package."
   ]
  },
  {
   "cell_type": "code",
   "execution_count": null,
   "metadata": {},
   "outputs": [],
   "source": [
    "from pymongo import MongoClient\n",
    "\n",
    "client =  MongoClient('localhost',27017)\n",
    "\n",
    "# Show existing databases\n",
    "print(client.list_database_names())"
   ]
  },
  {
   "cell_type": "markdown",
   "metadata": {},
   "source": [
    "## Getting Started with Mongo DB (courtesy of Thomas)\n",
    "\n",
    "- review mongoDB tutorial\n",
    "- discuss code (courtesy of Thomas)"
   ]
  },
  {
   "cell_type": "code",
   "execution_count": 37,
   "metadata": {},
   "outputs": [
    {
     "name": "stdout",
     "output_type": "stream",
     "text": [
      "{'_id': ObjectId('5dd4896a93e4423b240e99bc'), 'name': 'Gabby Cooper', 'age': 18, 'position': 'Guard'}\n"
     ]
    },
    {
     "data": {
      "text/plain": [
       "[None]"
      ]
     },
     "execution_count": 37,
     "metadata": {},
     "output_type": "execute_result"
    }
   ],
   "source": [
    "import pymongo\n",
    "from pymongo import MongoClient\n",
    "\n",
    "peoplelist = [\n",
    "    { \"name\": \"Britney Sykes\", \"age\": 21 , 'position':'Guard'}, \n",
    "    { \"name\": \"Briana Day\", \"age\": 19, 'position':'Center'}, \n",
    "    { \"name\": \"Alexis Peterson\", \"age\": 21, 'position':'Guard' }, \n",
    "    { \"name\": \"Gabby Cooper\", \"age\": 18, 'position':'Guard'}\n",
    "]\n",
    "\n",
    "# setup client\n",
    "client = MongoClient('localhost', 27017)\n",
    "\n",
    "# list db names\n",
    "client.list_database_names()\n",
    "# choose db\n",
    "db = client.peopledb\n",
    "\n",
    "# drop people collection if exists; start from scratch\n",
    "if 'people' in db.list_collection_names():\n",
    "    db.drop_collection('people')\n",
    "\n",
    "# create new collection\n",
    "peoplecoll = db.people\n",
    "\n",
    "\n",
    "# insert peoplelist into peoplecoll\n",
    "peoplecoll.insert_many(peoplelist)\n",
    "\n",
    "# query entries with age less than 20\n",
    "results = peoplecoll.find({'age':{'$lt':19}})\n",
    "[print(result) for result in results]"
   ]
  },
  {
   "cell_type": "markdown",
   "metadata": {},
   "source": [
    "# JSON Example "
   ]
  },
  {
   "cell_type": "code",
   "execution_count": 20,
   "metadata": {},
   "outputs": [
    {
     "data": {
      "text/plain": [
       "dict_keys(['type', 'metadata', 'features', 'bbox'])"
      ]
     },
     "execution_count": 20,
     "metadata": {},
     "output_type": "execute_result"
    }
   ],
   "source": [
    "import urllib.request\n",
    "import json\n",
    "\n",
    "earthquake_url =\"http://earthquake.usgs.gov/earthquakes/feed/v1.0/summary/significant_month.geojson\"\n",
    "\n",
    "response = urllib.request.urlopen(earthquake_url)\n",
    "\n",
    "json_string = response.read().decode('utf-8')\n",
    "\n",
    "eq_parsed_json = json.loads(json_string)\n",
    "\n",
    "type(eq_parsed_json)\n",
    "\n",
    "eq_parsed_json.keys() # Lists the keys at the top level"
   ]
  },
  {
   "cell_type": "code",
   "execution_count": 25,
   "metadata": {},
   "outputs": [
    {
     "data": {
      "text/plain": [
       "'USGS Significant Earthquakes, Past Month'"
      ]
     },
     "execution_count": 25,
     "metadata": {},
     "output_type": "execute_result"
    }
   ],
   "source": [
    "eq_parsed_json['type']\n",
    "\n",
    "eq_parsed_json['metadata']\n",
    "\n",
    "title = eq_parsed_json['metadata']['title']\n",
    "\n",
    "title"
   ]
  },
  {
   "cell_type": "code",
   "execution_count": 29,
   "metadata": {},
   "outputs": [
    {
     "data": {
      "text/plain": [
       "[5.9, 7.1, 4.93, 6.5, 5.9, 3.42, 6.3, 6.6, 6.1, 6.5, 6.6, 6.3, 6.4]"
      ]
     },
     "execution_count": 29,
     "metadata": {},
     "output_type": "execute_result"
    }
   ],
   "source": [
    "quakelist = eq_parsed_json['features']\n",
    "quakelist\n",
    "\n",
    "len(quakelist)\n",
    "\n",
    "mags = []\n",
    "# Create a list of the earthquake magnitudes\n",
    "for quake in quakelist:\n",
    "    mags.append(quake['properties']['mag'])\n",
    "\n",
    "mags"
   ]
  },
  {
   "cell_type": "code",
   "execution_count": 30,
   "metadata": {},
   "outputs": [
    {
     "name": "stdout",
     "output_type": "stream",
     "text": [
      "4km WSW of South Hutchinson, Kansas\n",
      "16km SE of Su'ao, Taiwan\n",
      "54km ENE of Namie, Japan\n",
      "102km WSW of Tugu Hilir, Indonesia\n",
      "94km SW of San Antonio, Chile\n",
      "62km E of Lakatoro, Vanuatu\n",
      "24km S of La Libertad, El Salvador\n",
      "140km ESE of Shingu, Japan\n",
      "16km S of Twentynine Palms, CA\n",
      "3km NNW of Magoula, Greece\n"
     ]
    },
    {
     "data": {
      "text/plain": [
       "['4km WSW of South Hutchinson, Kansas', \"16km SE of Su'ao, Taiwan\"]"
      ]
     },
     "execution_count": 30,
     "metadata": {},
     "output_type": "execute_result"
    }
   ],
   "source": [
    "# Printing the place of each earthquake\n",
    "quakeplaces = [] # list of quake locations\n",
    "\n",
    "for quake in quakelist:\n",
    "    print(quake['properties']['place'])\n",
    "    quakeplace = quake['properties']['place']\n",
    "    quakeplaces.append(quakeplace)\n",
    "    \n",
    "quakeplaces[0:2]"
   ]
  },
  {
   "cell_type": "markdown",
   "metadata": {},
   "source": [
    "## MongoDB with JSON (courtesy of Rebecca)"
   ]
  },
  {
   "cell_type": "code",
   "execution_count": 40,
   "metadata": {},
   "outputs": [
    {
     "name": "stdout",
     "output_type": "stream",
     "text": [
      "Collected data from USGS Significant Earthquakes, Past Month\n",
      "Connected successfully!!!\n",
      "Added 13 to earthquakes collection in usgs database\n"
     ]
    },
    {
     "ename": "OperationFailure",
     "evalue": "Unsupported projection option: mag: { $lt: 5 }",
     "output_type": "error",
     "traceback": [
      "\u001b[0;31m---------------------------------------------------------------------------\u001b[0m",
      "\u001b[0;31mOperationFailure\u001b[0m                          Traceback (most recent call last)",
      "\u001b[0;32m<ipython-input-40-3c271170bbb4>\u001b[0m in \u001b[0;36m<module>\u001b[0;34m\u001b[0m\n\u001b[1;32m     52\u001b[0m         \u001b[0mprint\u001b[0m\u001b[0;34m(\u001b[0m\u001b[0;34m\"Added\"\u001b[0m\u001b[0;34m,\u001b[0m \u001b[0mlen\u001b[0m\u001b[0;34m(\u001b[0m\u001b[0mquakelist\u001b[0m\u001b[0;34m)\u001b[0m\u001b[0;34m,\u001b[0m \u001b[0;34m\"to earthquakes collection in usgs database\"\u001b[0m\u001b[0;34m)\u001b[0m\u001b[0;34m\u001b[0m\u001b[0;34m\u001b[0m\u001b[0m\n\u001b[1;32m     53\u001b[0m \u001b[0;34m\u001b[0m\u001b[0m\n\u001b[0;32m---> 54\u001b[0;31m \u001b[0;32mfor\u001b[0m \u001b[0mitem\u001b[0m \u001b[0;32min\u001b[0m \u001b[0mquakecoll\u001b[0m\u001b[0;34m.\u001b[0m\u001b[0mfind\u001b[0m\u001b[0;34m(\u001b[0m\u001b[0;34m{\u001b[0m\u001b[0;34m}\u001b[0m\u001b[0;34m,\u001b[0m\u001b[0;34m{\u001b[0m\u001b[0;34m\"mag\"\u001b[0m\u001b[0;34m:\u001b[0m\u001b[0;34m{\u001b[0m\u001b[0;34m'$lt'\u001b[0m\u001b[0;34m:\u001b[0m\u001b[0;36m5\u001b[0m\u001b[0;34m}\u001b[0m\u001b[0;34m}\u001b[0m\u001b[0;34m)\u001b[0m\u001b[0;34m:\u001b[0m\u001b[0;34m\u001b[0m\u001b[0;34m\u001b[0m\u001b[0m\n\u001b[0m\u001b[1;32m     55\u001b[0m     \u001b[0mprint\u001b[0m\u001b[0;34m(\u001b[0m\u001b[0mitem\u001b[0m\u001b[0;34m)\u001b[0m\u001b[0;34m\u001b[0m\u001b[0;34m\u001b[0m\u001b[0m\n\u001b[1;32m     56\u001b[0m \u001b[0;34m\u001b[0m\u001b[0m\n",
      "\u001b[0;32m~/anaconda3/lib/python3.7/site-packages/pymongo/cursor.py\u001b[0m in \u001b[0;36mnext\u001b[0;34m(self)\u001b[0m\n\u001b[1;32m   1223\u001b[0m         \u001b[0;32mif\u001b[0m \u001b[0mself\u001b[0m\u001b[0;34m.\u001b[0m\u001b[0m__empty\u001b[0m\u001b[0;34m:\u001b[0m\u001b[0;34m\u001b[0m\u001b[0;34m\u001b[0m\u001b[0m\n\u001b[1;32m   1224\u001b[0m             \u001b[0;32mraise\u001b[0m \u001b[0mStopIteration\u001b[0m\u001b[0;34m\u001b[0m\u001b[0;34m\u001b[0m\u001b[0m\n\u001b[0;32m-> 1225\u001b[0;31m         \u001b[0;32mif\u001b[0m \u001b[0mlen\u001b[0m\u001b[0;34m(\u001b[0m\u001b[0mself\u001b[0m\u001b[0;34m.\u001b[0m\u001b[0m__data\u001b[0m\u001b[0;34m)\u001b[0m \u001b[0;32mor\u001b[0m \u001b[0mself\u001b[0m\u001b[0;34m.\u001b[0m\u001b[0m_refresh\u001b[0m\u001b[0;34m(\u001b[0m\u001b[0;34m)\u001b[0m\u001b[0;34m:\u001b[0m\u001b[0;34m\u001b[0m\u001b[0;34m\u001b[0m\u001b[0m\n\u001b[0m\u001b[1;32m   1226\u001b[0m             \u001b[0;32mif\u001b[0m \u001b[0mself\u001b[0m\u001b[0;34m.\u001b[0m\u001b[0m__manipulate\u001b[0m\u001b[0;34m:\u001b[0m\u001b[0;34m\u001b[0m\u001b[0;34m\u001b[0m\u001b[0m\n\u001b[1;32m   1227\u001b[0m                 \u001b[0m_db\u001b[0m \u001b[0;34m=\u001b[0m \u001b[0mself\u001b[0m\u001b[0;34m.\u001b[0m\u001b[0m__collection\u001b[0m\u001b[0;34m.\u001b[0m\u001b[0mdatabase\u001b[0m\u001b[0;34m\u001b[0m\u001b[0;34m\u001b[0m\u001b[0m\n",
      "\u001b[0;32m~/anaconda3/lib/python3.7/site-packages/pymongo/cursor.py\u001b[0m in \u001b[0;36m_refresh\u001b[0;34m(self)\u001b[0m\n\u001b[1;32m   1138\u001b[0m                                   \u001b[0mself\u001b[0m\u001b[0;34m.\u001b[0m\u001b[0m__session\u001b[0m\u001b[0;34m,\u001b[0m\u001b[0;34m\u001b[0m\u001b[0;34m\u001b[0m\u001b[0m\n\u001b[1;32m   1139\u001b[0m                                   self.__collection.database.client)\n\u001b[0;32m-> 1140\u001b[0;31m             \u001b[0mself\u001b[0m\u001b[0;34m.\u001b[0m\u001b[0m__send_message\u001b[0m\u001b[0;34m(\u001b[0m\u001b[0mq\u001b[0m\u001b[0;34m)\u001b[0m\u001b[0;34m\u001b[0m\u001b[0;34m\u001b[0m\u001b[0m\n\u001b[0m\u001b[1;32m   1141\u001b[0m         \u001b[0;32melif\u001b[0m \u001b[0mself\u001b[0m\u001b[0;34m.\u001b[0m\u001b[0m__id\u001b[0m\u001b[0;34m:\u001b[0m  \u001b[0;31m# Get More\u001b[0m\u001b[0;34m\u001b[0m\u001b[0;34m\u001b[0m\u001b[0m\n\u001b[1;32m   1142\u001b[0m             \u001b[0;32mif\u001b[0m \u001b[0mself\u001b[0m\u001b[0;34m.\u001b[0m\u001b[0m__limit\u001b[0m\u001b[0;34m:\u001b[0m\u001b[0;34m\u001b[0m\u001b[0;34m\u001b[0m\u001b[0m\n",
      "\u001b[0;32m~/anaconda3/lib/python3.7/site-packages/pymongo/cursor.py\u001b[0m in \u001b[0;36m__send_message\u001b[0;34m(self, operation)\u001b[0m\n\u001b[1;32m   1008\u001b[0m                 \u001b[0mfirst\u001b[0m \u001b[0;34m=\u001b[0m \u001b[0mdocs\u001b[0m\u001b[0;34m[\u001b[0m\u001b[0;36m0\u001b[0m\u001b[0;34m]\u001b[0m\u001b[0;34m\u001b[0m\u001b[0;34m\u001b[0m\u001b[0m\n\u001b[1;32m   1009\u001b[0m                 \u001b[0mclient\u001b[0m\u001b[0;34m.\u001b[0m\u001b[0m_receive_cluster_time\u001b[0m\u001b[0;34m(\u001b[0m\u001b[0mfirst\u001b[0m\u001b[0;34m,\u001b[0m \u001b[0mself\u001b[0m\u001b[0;34m.\u001b[0m\u001b[0m__session\u001b[0m\u001b[0;34m)\u001b[0m\u001b[0;34m\u001b[0m\u001b[0;34m\u001b[0m\u001b[0m\n\u001b[0;32m-> 1010\u001b[0;31m                 \u001b[0mhelpers\u001b[0m\u001b[0;34m.\u001b[0m\u001b[0m_check_command_response\u001b[0m\u001b[0;34m(\u001b[0m\u001b[0mfirst\u001b[0m\u001b[0;34m)\u001b[0m\u001b[0;34m\u001b[0m\u001b[0;34m\u001b[0m\u001b[0m\n\u001b[0m\u001b[1;32m   1011\u001b[0m         \u001b[0;32mexcept\u001b[0m \u001b[0mOperationFailure\u001b[0m \u001b[0;32mas\u001b[0m \u001b[0mexc\u001b[0m\u001b[0;34m:\u001b[0m\u001b[0;34m\u001b[0m\u001b[0;34m\u001b[0m\u001b[0m\n\u001b[1;32m   1012\u001b[0m             \u001b[0mself\u001b[0m\u001b[0;34m.\u001b[0m\u001b[0m__killed\u001b[0m \u001b[0;34m=\u001b[0m \u001b[0;32mTrue\u001b[0m\u001b[0;34m\u001b[0m\u001b[0;34m\u001b[0m\u001b[0m\n",
      "\u001b[0;32m~/anaconda3/lib/python3.7/site-packages/pymongo/helpers.py\u001b[0m in \u001b[0;36m_check_command_response\u001b[0;34m(response, msg, allowable_errors, parse_write_concern_error)\u001b[0m\n\u001b[1;32m    153\u001b[0m \u001b[0;34m\u001b[0m\u001b[0m\n\u001b[1;32m    154\u001b[0m             \u001b[0mmsg\u001b[0m \u001b[0;34m=\u001b[0m \u001b[0mmsg\u001b[0m \u001b[0;32mor\u001b[0m \u001b[0;34m\"%s\"\u001b[0m\u001b[0;34m\u001b[0m\u001b[0;34m\u001b[0m\u001b[0m\n\u001b[0;32m--> 155\u001b[0;31m             \u001b[0;32mraise\u001b[0m \u001b[0mOperationFailure\u001b[0m\u001b[0;34m(\u001b[0m\u001b[0mmsg\u001b[0m \u001b[0;34m%\u001b[0m \u001b[0merrmsg\u001b[0m\u001b[0;34m,\u001b[0m \u001b[0mcode\u001b[0m\u001b[0;34m,\u001b[0m \u001b[0mresponse\u001b[0m\u001b[0;34m)\u001b[0m\u001b[0;34m\u001b[0m\u001b[0;34m\u001b[0m\u001b[0m\n\u001b[0m\u001b[1;32m    156\u001b[0m \u001b[0;34m\u001b[0m\u001b[0m\n\u001b[1;32m    157\u001b[0m \u001b[0;34m\u001b[0m\u001b[0m\n",
      "\u001b[0;31mOperationFailure\u001b[0m: Unsupported projection option: mag: { $lt: 5 }"
     ]
    }
   ],
   "source": [
    "''' \n",
    "This program accesses the USGS earthquake data feed. This URL is for\n",
    "       significant quakes in the last 30 days.\n",
    "It then saves the earthquakes to a database named usgs and a collection called earthquakes.\n",
    "The mongod server must be running for this program to work!\n",
    "'''\n",
    "\n",
    "import urllib.request\n",
    "import json\n",
    "import pymongo\n",
    "\n",
    "\n",
    "# get the bbc rss feed of news stories and connect to it\n",
    "earthquake_url = \"http://earthquake.usgs.gov/earthquakes/feed/v1.0/summary/significant_month.geojson\"\n",
    "\n",
    "try:\n",
    "    response = urllib.request.urlopen(earthquake_url)\n",
    "except urllib.error.URLError as e:\n",
    "    if hasattr(e, 'reason'):\n",
    "        print('We failed to reach a server.')\n",
    "        print('Reason: ', e.reason)\n",
    "    elif hasattr(e, 'code'):\n",
    "        print('The server couldn\\'t fulfill the request.')\n",
    "        print('Error code: ', e.code)\n",
    "else:\n",
    "    # the url request was successful - convert the response to a string\n",
    "    json_string = response.read().decode('utf-8')\n",
    "\n",
    "    # the json package loads() converts the string to python dictionaries and lists\n",
    "    eq_json = json.loads(json_string)\n",
    "    \n",
    "    # from the json dictionary we get the title to print\n",
    "    title = eq_json['metadata']['title']\n",
    "    print('Collected data from', title)\n",
    "    #  and we get the list of earthquakes\n",
    "    quakelist = eq_json['features']\n",
    "\n",
    "    # Connection to Mongo DB\n",
    "    try:\n",
    "        client=pymongo.MongoClient('localhost', 27017)\n",
    "        print (\"Connected successfully!!!\")\n",
    "    except pymongo.errors.ConnectionFailure as e:\n",
    "        print (\"Could not connect to MongoDB: %s\" % e )\n",
    "    else:\n",
    "\n",
    "        # use database named usgs or create it if not there already\n",
    "        eqdb = client.usgs\n",
    "        # create collection named earthquakes or create it if not there already\n",
    "        quakecoll = eqdb.earthquakes\n",
    "        # add all the earthquakes to the list\n",
    "        quakecoll.insert_many(quakelist)\n",
    "        print(\"Added\", len(quakelist), \"to earthquakes collection in usgs database\")\n",
    "  \n",
    "# for item in quakecoll.find({},{\"mag\":{'$lt':5}}):\n",
    " #   print(item)\n",
    "  \n",
    "# close the database connection\n",
    "client.close()"
   ]
  },
  {
   "cell_type": "markdown",
   "metadata": {},
   "source": [
    "# Breakout Group Exercise"
   ]
  },
  {
   "cell_type": "code",
   "execution_count": 31,
   "metadata": {},
   "outputs": [],
   "source": [
    "# Create a list of each of coordinates from \"quakelist\"\n",
    "# ie  'coordinates': [-97.9879, 38.0101, 5]},"
   ]
  },
  {
   "cell_type": "code",
   "execution_count": 5,
   "metadata": {},
   "outputs": [
    {
     "data": {
      "text/plain": [
       "dict_keys(['type', 'properties', 'geometry', 'id'])"
      ]
     },
     "execution_count": 5,
     "metadata": {},
     "output_type": "execute_result"
    }
   ],
   "source": [
    "quake1 = quakelist[0]\n",
    "type(quake1)\n",
    "quake1.keys()"
   ]
  },
  {
   "cell_type": "code",
   "execution_count": 6,
   "metadata": {},
   "outputs": [
    {
     "name": "stdout",
     "output_type": "stream",
     "text": [
      "{\n",
      "  \"type\": \"Feature\",\n",
      "  \"properties\": {\n",
      "    \"mag\": 4.2,\n",
      "    \"place\": \"4km WSW of South Hutchinson, Kansas\",\n",
      "    \"time\": 1565960350388,\n",
      "    \"updated\": 1566045597598,\n",
      "    \"tz\": -360,\n",
      "    \"url\": \"https://earthquake.usgs.gov/earthquakes/eventpage/us600055xa\",\n",
      "    \"detail\": \"https://earthquake.usgs.gov/earthquakes/feed/v1.0/detail/us600055xa.geojson\",\n",
      "    \"felt\": 1019,\n",
      "    \"cdi\": 6.1,\n",
      "    \"mmi\": 5.593,\n",
      "    \"alert\": null,\n",
      "    \"status\": \"reviewed\",\n",
      "    \"tsunami\": 0,\n",
      "    \"sig\": 881,\n",
      "    \"net\": \"us\",\n",
      "    \"code\": \"600055xa\",\n",
      "    \"ids\": \",us600055xa,\",\n",
      "    \"sources\": \",us,\",\n",
      "    \"types\": \",dyfi,geoserve,moment-tensor,origin,phase-data,shakemap,\",\n",
      "    \"nst\": null,\n",
      "    \"dmin\": 0.702,\n",
      "    \"rms\": 0.29,\n",
      "    \"gap\": 186,\n",
      "    \"magType\": \"mwr\",\n",
      "    \"type\": \"earthquake\",\n",
      "    \"title\": \"M 4.2 - 4km WSW of South Hutchinson, Kansas\"\n",
      "  },\n",
      "  \"geometry\": {\n",
      "    \"type\": \"Point\",\n",
      "    \"coordinates\": [\n",
      "      -97.9879,\n",
      "      38.0101,\n",
      "      5\n",
      "    ]\n",
      "  },\n",
      "  \"id\": \"us600055xa\"\n",
      "}\n"
     ]
    }
   ],
   "source": [
    "print(json.dumps(quake1, indent=2))"
   ]
  },
  {
   "cell_type": "code",
   "execution_count": null,
   "metadata": {},
   "outputs": [],
   "source": []
  }
 ],
 "metadata": {
  "kernelspec": {
   "display_name": "Python 3",
   "language": "python",
   "name": "python3"
  },
  "language_info": {
   "codemirror_mode": {
    "name": "ipython",
    "version": 3
   },
   "file_extension": ".py",
   "mimetype": "text/x-python",
   "name": "python",
   "nbconvert_exporter": "python",
   "pygments_lexer": "ipython3",
   "version": "3.7.3"
  }
 },
 "nbformat": 4,
 "nbformat_minor": 2
}
