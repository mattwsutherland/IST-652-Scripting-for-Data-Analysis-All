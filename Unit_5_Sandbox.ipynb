{
  "nbformat": 4,
  "nbformat_minor": 0,
  "metadata": {
    "colab": {
      "name": "Unit-5-Sandbox.ipynb",
      "provenance": [],
      "authorship_tag": "ABX9TyOW7wzNwuaSuJ0YFBA5I86i",
      "include_colab_link": true
    },
    "kernelspec": {
      "name": "python3",
      "display_name": "Python 3"
    }
  },
  "cells": [
    {
      "cell_type": "markdown",
      "metadata": {
        "id": "view-in-github",
        "colab_type": "text"
      },
      "source": [
        "<a href=\"https://colab.research.google.com/github/ljanastas/IST-652-Scripting-for-Data-Analysis-SU-19/blob/master/Unit_5_Sandbox.ipynb\" target=\"_parent\"><img src=\"https://colab.research.google.com/assets/colab-badge.svg\" alt=\"Open In Colab\"/></a>"
      ]
    },
    {
      "cell_type": "markdown",
      "metadata": {
        "id": "KnI9nNR1SAEa",
        "colab_type": "text"
      },
      "source": [
        ""
      ]
    },
    {
      "cell_type": "markdown",
      "metadata": {
        "id": "wgWGfwYgSBZH",
        "colab_type": "text"
      },
      "source": [
        "# Data Transformations Code  (Courtesy of Randy Geszvain)\n",
        "\n",
        "### Question\n",
        "Repeat the activity that we just went through in the lecture to read the data from the provided State Data. Transform the data.\n",
        "\n",
        "state_data = {'State':['Alabama','Alaska','Arizona','Arkansas'],'PostCode':['AL','AK','AZ','AR'],'Area':['52,423','656,424','*','53,182'],'Pop':['4,040,587','550,043','3,665,228','2,350,750']}\n",
        "\n",
        "1. Create a dataframe using pd.DataFrame(state_data, columns=['State','PostCode','Area','Pop'].\n",
        "\n",
        "2. Display the table.\n",
        "\n",
        "3. Index the table by 'State'.\n",
        "\n",
        "4. Replace the '*' with '0'.\n",
        "\n",
        "5. Define a function to replace ',' with ''.\n",
        "\n",
        "6. Use this function to replace the commas in 'Area' and 'Pop'.\n",
        "\n",
        "Submit your code and a final display of your table."
      ]
    },
    {
      "cell_type": "code",
      "metadata": {
        "id": "_xcBP1tdSp0I",
        "colab_type": "code",
        "colab": {
          "base_uri": "https://localhost:8080/",
          "height": 55
        },
        "outputId": "94c4d51b-2d1a-4e2e-9c40-67a727c26807"
      },
      "source": [
        "state_data = {'State':['Alabama','Alaska','Arizona','Arkansas'],'PostCode':['AL','AK','AZ','AR'],'Area':['52,423','656,424','*','53,182'],'Pop':['4,040,587','550,043','3,665,228','2,350,750']}\n",
        "\n",
        "print(state_data)"
      ],
      "execution_count": 1,
      "outputs": [
        {
          "output_type": "stream",
          "text": [
            "{'State': ['Alabama', 'Alaska', 'Arizona', 'Arkansas'], 'PostCode': ['AL', 'AK', 'AZ', 'AR'], 'Area': ['52,423', '656,424', '*', '53,182'], 'Pop': ['4,040,587', '550,043', '3,665,228', '2,350,750']}\n"
          ],
          "name": "stdout"
        }
      ]
    },
    {
      "cell_type": "code",
      "metadata": {
        "id": "RdqT41T0SU7q",
        "colab_type": "code",
        "colab": {
          "base_uri": "https://localhost:8080/",
          "height": 104
        },
        "outputId": "86c07858-17ed-48ea-fbdf-103dda64d7a5"
      },
      "source": [
        "\n",
        "\n",
        "#1. Create a dataframe using pd.DataFrame(state_data, columns=['State','PostCode','Area','Pop'].\n",
        "import pandas as pd\n",
        "import numpy as np\n",
        "\n",
        "df = pd.DataFrame(state_data, columns=['State','PostCode','Area','Pop'])\n",
        "\n",
        "\n",
        "\n",
        "\n",
        "#2. Display the table.\n",
        "\n",
        "print(df)"
      ],
      "execution_count": 2,
      "outputs": [
        {
          "output_type": "stream",
          "text": [
            "      State PostCode     Area        Pop\n",
            "0   Alabama       AL   52,423  4,040,587\n",
            "1    Alaska       AK  656,424    550,043\n",
            "2   Arizona       AZ        *  3,665,228\n",
            "3  Arkansas       AR   53,182  2,350,750\n"
          ],
          "name": "stdout"
        }
      ]
    },
    {
      "cell_type": "code",
      "metadata": {
        "id": "c5fEzkllS4ax",
        "colab_type": "code",
        "colab": {
          "base_uri": "https://localhost:8080/",
          "height": 121
        },
        "outputId": "0dd6bd37-d89f-4cb3-a452-533ca2fa8218"
      },
      "source": [
        "#3. Index the table by 'State'.\n",
        "\n",
        "stdf = df.set_index('State')\n",
        "print(stdf)"
      ],
      "execution_count": 3,
      "outputs": [
        {
          "output_type": "stream",
          "text": [
            "         PostCode     Area        Pop\n",
            "State                                \n",
            "Alabama        AL   52,423  4,040,587\n",
            "Alaska         AK  656,424    550,043\n",
            "Arizona        AZ        *  3,665,228\n",
            "Arkansas       AR   53,182  2,350,750\n"
          ],
          "name": "stdout"
        }
      ]
    },
    {
      "cell_type": "code",
      "metadata": {
        "id": "5pTm-PxKTAdT",
        "colab_type": "code",
        "colab": {
          "base_uri": "https://localhost:8080/",
          "height": 121
        },
        "outputId": "cc32d1cc-c7ab-4f6d-a7f6-d5febe17c7ac"
      },
      "source": [
        "#4. Replace the '*' with '0'.\n",
        "\n",
        "stdf =stdf.replace('*','0')\n",
        "print(stdf)\n",
        "\n",
        "#5. Define a function to replace ',' with ''.\n",
        "\n",
        "def rm_comma(str):\n",
        "  return str.replace(',','')\n",
        "\n",
        "\n"
      ],
      "execution_count": 4,
      "outputs": [
        {
          "output_type": "stream",
          "text": [
            "         PostCode     Area        Pop\n",
            "State                                \n",
            "Alabama        AL   52,423  4,040,587\n",
            "Alaska         AK  656,424    550,043\n",
            "Arizona        AZ        0  3,665,228\n",
            "Arkansas       AR   53,182  2,350,750\n"
          ],
          "name": "stdout"
        }
      ]
    },
    {
      "cell_type": "code",
      "metadata": {
        "id": "R-jBqSraTLoD",
        "colab_type": "code",
        "colab": {
          "base_uri": "https://localhost:8080/",
          "height": 121
        },
        "outputId": "3bb603d7-da44-4034-930f-752505f34df3"
      },
      "source": [
        "#6. Use this function to replace the commas in 'Area' and 'Pop'.\n",
        "\n",
        "stdf['Area'] = stdf['Area'].map(rm_comma)\n",
        "stdf['Pop'] = stdf['Pop'].map(rm_comma)\n",
        "print(stdf)"
      ],
      "execution_count": 5,
      "outputs": [
        {
          "output_type": "stream",
          "text": [
            "         PostCode    Area      Pop\n",
            "State                             \n",
            "Alabama        AL   52423  4040587\n",
            "Alaska         AK  656424   550043\n",
            "Arizona        AZ       0  3665228\n",
            "Arkansas       AR   53182  2350750\n"
          ],
          "name": "stdout"
        }
      ]
    },
    {
      "cell_type": "markdown",
      "metadata": {
        "id": "P1PjAc_UUQw-",
        "colab_type": "text"
      },
      "source": [
        "# Writing Reports and Tables to a File"
      ]
    },
    {
      "cell_type": "code",
      "metadata": {
        "id": "1PLM05oeUWqT",
        "colab_type": "code",
        "colab": {}
      },
      "source": [
        "'''\n",
        "  This program reads the American League baseball players, 2003, tsv file\n",
        "    using the csv reader \n",
        "    and stores it in a list of dictionaries, one for each player\n",
        "  Each line has the team, the player name, the salary and the position played.\n",
        "\n",
        "  The program writes a report on the average salary per player to a txt file.\n",
        "  The program writes the players who made more than $10 million to a csv file\n",
        "    using the csv writer with a header line suitable for excel.\n",
        "'''\n",
        "\n",
        "import csv\n",
        "\n",
        "infile = 'ALbb.salaries.2003.tsv'\n",
        "\n",
        "# create new empty list\n",
        "playersList = []\n",
        "\n",
        "with open(infile, 'rU') as csvfile:\n",
        "    # the csv file reader returns a list of the csv items on each line\n",
        "    ALReader = csv.reader(csvfile,  dialect='excel', delimiter='\\t')\n",
        "\n",
        "    # from each line, a list of row items, put each element in a dictionary\n",
        "    #   with a key representing the data\n",
        "    for line in ALReader:\n",
        "      # skip lines without data\n",
        "      if line[0] == '' or line[0].startswith('American') or line[0].startswith('Team')\\\n",
        "            or line[0].startswith('Source'):\n",
        "          continue\n",
        "      else:\n",
        "          try:\n",
        "            # create a dictionary for each player\n",
        "            player = {}\n",
        "            # add each piece of data under a key representing that data\n",
        "            player['team'] = line[0]\n",
        "            player['name'] = line[1]\n",
        "            player['sal'] = int(line[2].replace(',',''))\n",
        "            player['position'] = line[3]\n",
        "    \n",
        "            # add this player to the list\n",
        "            playersList.append(player)\n",
        "    \n",
        "          except IndexError:\n",
        "            print ('Error: ', line)\n",
        "csvfile.close()\n",
        "\n",
        "print (\"Read\", len(playersList), \"player data\")\n",
        "\n",
        "\n",
        "# Write a report text file with a title and the average of the salaries\n",
        "# First create an output file name\n",
        "outfile1 = infile.replace('tsv', '') + 'report.txt'\n",
        "# open the file for writing\n",
        "fout1 = open(outfile1, 'w')\n",
        "\n",
        "# write title at top of file\n",
        "fout1.write(\"American League Baseball players average salary in 2003\\n\\n\")\n",
        "\n",
        "# comput the average salary over all players\n",
        "total_salary = 0.0\n",
        "for player in playersList:\n",
        "    total_salary += player['sal']\n",
        "average_salary = total_salary / len(playersList)\n",
        "\n",
        "# write a report line as a string to the file\n",
        "fout1.write('Average salary = ${:,.2f}'.format(average_salary))\n",
        "fout1.close()\n",
        "\n",
        "# Write a file with all the players who made more than $10 million.\n",
        "# We write a comma separated file, using the csv writer to quote the player names with commas\n",
        "# first create an output file name\n",
        "outfile2 = infile.replace('tsv','') + 'million.csv'\n",
        "\n",
        "# open the file\n",
        "with open(outfile2, 'w', newline='') as csvfileout:\n",
        "    # create a csv writer for a comman sep file, with quoting as needed\n",
        "    ALwriter = csv.writer(csvfileout, delimiter=',', quoting=csv.QUOTE_MINIMAL)\n",
        "    # write the header row as a list of column labels\n",
        "    ALwriter.writerow(['Player', 'Team', 'Salary'])\n",
        "    for player in playersList:\n",
        "        # select the players with salary over 1 million\n",
        "        if (player['sal'] > 10000000):\n",
        "            # write the player as a list of data items\n",
        "            ALwriter.writerow([player['name'], player['team'], player['sal']])\n",
        "\n",
        "csvfileout.close()\n",
        "\n",
        "\n",
        "\n"
      ],
      "execution_count": 0,
      "outputs": []
    },
    {
      "cell_type": "markdown",
      "metadata": {
        "id": "V1r3nl9uU87r",
        "colab_type": "text"
      },
      "source": [
        "# Breakout Group Exercise\n",
        "\n",
        "Take the program we just walked through and modify it to create an output file called 'pitchers-only.csv' and change the code to only select pitchers.\n",
        "\n",
        "Present how you went about doing this to the class "
      ]
    },
    {
      "cell_type": "code",
      "metadata": {
        "id": "wq4mHliDVPyV",
        "colab_type": "code",
        "colab": {}
      },
      "source": [
        ""
      ],
      "execution_count": 0,
      "outputs": []
    }
  ]
}