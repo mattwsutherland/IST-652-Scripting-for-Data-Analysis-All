{
  "nbformat": 4,
  "nbformat_minor": 0,
  "metadata": {
    "colab": {
      "name": "IST652-Unit-6-Breakout-Group.ipynb",
      "provenance": [],
      "authorship_tag": "ABX9TyNzn1RDG1n4euqeHy0xj0uK",
      "include_colab_link": true
    },
    "kernelspec": {
      "name": "python3",
      "display_name": "Python 3"
    }
  },
  "cells": [
    {
      "cell_type": "markdown",
      "metadata": {
        "id": "view-in-github",
        "colab_type": "text"
      },
      "source": [
        "<a href=\"https://colab.research.google.com/github/ljanastas/IST-652-Scripting-for-Data-Analysis-SU-19/blob/master/IST652_Unit_6_Breakout_Group.ipynb\" target=\"_parent\"><img src=\"https://colab.research.google.com/assets/colab-badge.svg\" alt=\"Open In Colab\"/></a>"
      ]
    },
    {
      "cell_type": "markdown",
      "metadata": {
        "id": "5g8AEk41TLCJ",
        "colab_type": "text"
      },
      "source": [
        "# Breakout group exercise: html parsing\n",
        "\n",
        "This news article discusses 12 habits that help with productivity: \n",
        "\n",
        "https://www.cnbc.com/2020/02/14/stanford-scientist-on-proven-habits-that-will-make-you-more-productive.html\n",
        "\n",
        "\n",
        "For this breakout group exercise please:\n",
        "\n",
        "*   Make a copy of this notebook so that you can write on it or download this as a Python notebook.\n",
        "*   Parse this website using beautifulsoup\n",
        "*   Create a Python list with each of the 12 habits.\n",
        "*   Store the list as a .csv file entitles \"twelve-habits.csv\"\n",
        "\n",
        "Some starter code is below.\n",
        "\n"
      ]
    },
    {
      "cell_type": "code",
      "metadata": {
        "id": "9zOyn-AxUZBM",
        "colab_type": "code",
        "outputId": "482aa7ab-6e0a-4af6-9c9a-6f31e5d33fcd",
        "colab": {
          "base_uri": "https://localhost:8080/",
          "height": 141
        }
      },
      "source": [
        "from urllib import request\n",
        "from bs4 import BeautifulSoup\n",
        "\n",
        "link = 'https://www.cnbc.com/2020/02/14/stanford-scientist-on-proven-habits-that-will-make-you-more-productive.html'\n",
        "response = request.urlopen(link)\n"
      ],
      "execution_count": 0,
      "outputs": [
        {
          "output_type": "stream",
          "text": [
            "<title itemprop=\"name\">Stanford scientist on proven habits that will make you more productive</title>\n",
            "<p>If you have a hard time keeping and maintaining good habits, you may be thinking \"too big,\" according to a Stanford University behavior scientist, who has been studying how habits are kept for nearly three decades.</p>\n",
            "head\n",
            "<!DOCTYPE html><html lang=\"en\" prefix=\"og=https://ogp.me/ns#\" itemType=\"https://schema.org/WebPage\" class=\"\"><head><link rel=\"preload\" as=\"font\" href=\"https://static-redesign.cnbcfm.com/dist/icomoon.ttf\" type=\"font/ttf\" crossorigin=\"anonymous\"/><link rel=\"preload\" as=\"font\" href=\"https://static-redesign.cnbcfm.com/dist/351C86_3_0.woff2\" type=\"font/woff2\" crossorigin=\"anonymous\"/><link rel=\"preload\" as=\"font\" href=\"https://static-redesign.cnbcfm.com/dist/361747_0_0.woff2\" type=\"font/woff2\" crosso\n",
            "<class 'bs4.element.ResultSet'>\n",
            "68\n"
          ],
          "name": "stdout"
        }
      ]
    }
  ]
}